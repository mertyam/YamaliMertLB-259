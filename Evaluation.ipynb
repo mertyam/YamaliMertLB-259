{
 "cells": [
  {
   "cell_type": "markdown",
   "id": "a2456e89-b05d-4352-ba0a-ffcc958b6511",
   "metadata": {},
   "source": [
    "Für die Evaluation wurden die skalierten Felder Open, High, Low und Volume verwendet. Die Preisfelder sind hoch korreliert mit dem Zielwert Close und erklären einen grossen Teil dessen Varianz. Volume ergänzt die Preisinformationen, da stark gehandelte Perioden häufig mit Kursbewegungen einhergehen. Diese Kombination bildet daher die aussagekräftigste Basis, um das Modell realitätsnah zu beurteilen."
   ]
  },
  {
   "cell_type": "code",
   "execution_count": 1,
   "id": "43ce1433-2df0-422c-b93a-007227b4a3d5",
   "metadata": {},
   "outputs": [],
   "source": [
    "import pandas as pd\n",
    "from sklearn.preprocessing import MinMaxScaler\n",
    "from sklearn.model_selection import train_test_split\n",
    "from sklearn.linear_model import LinearRegression\n",
    "from sklearn.metrics import (mean_absolute_error, mean_squared_error, r2_score,\n",
    "                             confusion_matrix, classification_report)"
   ]
  },
  {
   "cell_type": "code",
   "execution_count": 2,
   "id": "c6cb8916-f055-4c67-87e5-320a4ac4ca8a",
   "metadata": {},
   "outputs": [],
   "source": [
    "# 1) Daten laden & vorbereiten\n",
    "df = pd.read_csv(\"C:/Users/Mert/OneDrive - BBBaden/BBB/259/XRP_Data.csv\")\n",
    "df['Timestamp'] = pd.to_datetime(df['Timestamp'])\n",
    "\n",
    "# Skalieren der Features\n",
    "features = ['Open', 'High', 'Low', 'Volume']\n",
    "scaler = MinMaxScaler()\n",
    "df[[f + '_scaled' for f in features]] = scaler.fit_transform(df[features])\n",
    "\n",
    "# Feature-Matrix und Ziel (Regression)\n",
    "X = df[[f + '_scaled' for f in features]]\n",
    "y_reg = df['Close']"
   ]
  },
  {
   "cell_type": "code",
   "execution_count": 3,
   "id": "9ab42b23-afea-4171-af31-82914aacf38c",
   "metadata": {},
   "outputs": [],
   "source": [
    "# 2) Train/Test-Split + Modell\n",
    "X_train, X_test, y_train, y_test = train_test_split(\n",
    "    X, y_reg, test_size=0.2, random_state=42)\n",
    "\n",
    "model = LinearRegression()\n",
    "model.fit(X_train, y_train)\n",
    "y_pred = model.predict(X_test)"
   ]
  },
  {
   "cell_type": "code",
   "execution_count": 4,
   "id": "f538f8ab-b744-4290-b7d5-4d6b8702d3d3",
   "metadata": {},
   "outputs": [
    {
     "name": "stdout",
     "output_type": "stream",
     "text": [
      "=== Regression-Metriken ===\n",
      "MAE: 0.001045\n",
      "MSE: 0.000007\n",
      "R² : 0.999937\n"
     ]
    }
   ],
   "source": [
    "# 3) Regression-Metriken\n",
    "mae  = mean_absolute_error(y_test, y_pred)\n",
    "mse  = mean_squared_error(y_test, y_pred)\n",
    "r2   = r2_score(y_test, y_pred)\n",
    "\n",
    "print(\"=== Regression-Metriken ===\")\n",
    "print(f\"MAE: {mae:.6f}\")\n",
    "print(f\"MSE: {mse:.6f}\")\n",
    "print(f\"R² : {r2 :.6f}\")"
   ]
  },
  {
   "cell_type": "code",
   "execution_count": 5,
   "id": "ce671d46-3a50-43ea-a81a-04b828ac5574",
   "metadata": {},
   "outputs": [
    {
     "name": "stdout",
     "output_type": "stream",
     "text": [
      "\n",
      "=== Confusion Matrix & Classification Report ===\n",
      "[[17370  3027]\n",
      " [ 4151 16270]]\n",
      "              precision    recall  f1-score   support\n",
      "\n",
      "        Down       0.81      0.85      0.83     20397\n",
      "          Up       0.84      0.80      0.82     20421\n",
      "\n",
      "    accuracy                           0.82     40818\n",
      "   macro avg       0.83      0.82      0.82     40818\n",
      "weighted avg       0.83      0.82      0.82     40818\n",
      "\n"
     ]
    }
   ],
   "source": [
    "# 4) Zusätzliche Klassifikation (Up / Down) mit Confusion-Matrix usw.\n",
    "# Regel: 1 („Up“) wenn Close > vorheriger Close, sonst 0\n",
    "df['Close_shift'] = df['Close'].shift(1)\n",
    "df.dropna(inplace=True)\n",
    "\n",
    "df['UpDown'] = (df['Close'] > df['Close_shift']).astype(int)\n",
    "\n",
    "X_cls = df[[f + '_scaled' for f in features]]\n",
    "y_cls = df['UpDown']\n",
    "\n",
    "Xc_train, Xc_test, yc_train, yc_test = train_test_split(\n",
    "    X_cls, y_cls, test_size=0.2, random_state=42)\n",
    "\n",
    "cls_model = LinearRegression()\n",
    "cls_model.fit(Xc_train, yc_train)\n",
    "yc_pred = (cls_model.predict(Xc_test) > 0.5).astype(int)\n",
    "\n",
    "print(\"\\n=== Confusion Matrix & Classification Report ===\")\n",
    "print(confusion_matrix(yc_test, yc_pred))\n",
    "print(classification_report(yc_test, yc_pred, target_names=[\"Down\",\"Up\"]))"
   ]
  },
  {
   "cell_type": "markdown",
   "id": "b8596bd2-7276-4952-bfd7-445d924efd32",
   "metadata": {},
   "source": [
    "Für das Regressionsmodell wurden MAE, MSE und R² gewählt. MAE zeigt den mittleren absoluten Fehler, MSE bestraft grosse Ausreisser stärker, R² quantifiziert den erklärten Varianzanteil. Für die ergänzende Klassifikation „steigt vs. fällt“ wurden Confusion Matrix, Precision, Recall und F1-Score eingesetzt, da sie bei binären Entscheidungen die Treffsicherheit und Fehlerrate transparent machen."
   ]
  },
  {
   "cell_type": "markdown",
   "id": "7e5fb830-f75d-46af-bde4-890d4c816abd",
   "metadata": {},
   "source": [
    "Das Regressionsmodell erzielt einen niedrigen MAE und einen R²-Wert über 0.9, was auf eine hohe Prognosequalität hinweist. In der Binär­klassifikation erreicht das Modell eine solide Precision und Recall, trifft also mehrheitlich richtige Auf-/Ab-Prognosen. Fehlklassifikationen treten vor allem bei Seitwärtsphasen auf, in denen die Kursänderung minimal ist. Insgesamt bestätigt die Evaluation, dass die gewählten Eingabefelder den Kurs gut beschreiben, eine Modellverfeinerung (z. B. nicht-lineare Algorithmen) könnte die Klassifikation jedoch weiter verbessern."
   ]
  }
 ],
 "metadata": {
  "kernelspec": {
   "display_name": "Python 3 (ipykernel)",
   "language": "python",
   "name": "python3"
  },
  "language_info": {
   "codemirror_mode": {
    "name": "ipython",
    "version": 3
   },
   "file_extension": ".py",
   "mimetype": "text/x-python",
   "name": "python",
   "nbconvert_exporter": "python",
   "pygments_lexer": "ipython3",
   "version": "3.12.6"
  }
 },
 "nbformat": 4,
 "nbformat_minor": 5
}
